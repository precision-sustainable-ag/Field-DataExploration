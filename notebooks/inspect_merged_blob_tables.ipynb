{
 "cells": [
  {
   "cell_type": "code",
   "execution_count": 1,
   "metadata": {},
   "outputs": [],
   "source": [
    "import sys\n",
    "\n",
    "sys.path.append(\"..\")\n",
    "from utils.utils import read_csv_as_df"
   ]
  },
  {
   "cell_type": "code",
   "execution_count": 2,
   "metadata": {},
   "outputs": [],
   "source": [
    "path = \"../data/processed_tables/2024-03-07/merged_blobs_tables_metadata.csv\"\n",
    "blobpath = \"../data/blobs/2024-03-07/weedsimagerepo_blob_metrics.csv\"\n",
    "missingpath = \"../data/processed_tables/2024-03-07/missing_blobs_metadata.csv\"\n",
    "\n",
    "final_df = read_csv_as_df(path)\n",
    "blob_df = read_csv_as_df(blobpath)\n",
    "missing_df = read_csv_as_df(missingpath)"
   ]
  },
  {
   "cell_type": "code",
   "execution_count": 7,
   "metadata": {},
   "outputs": [
    {
     "name": "stdout",
     "output_type": "stream",
     "text": [
      "blob table memory after removing duplicate:\t 3490047.4919729233\n",
      "\n",
      "final table memory after removing duplicate:\t 3488509.554778099\n",
      "\n",
      "missing table memory after removing duplicate:\t 1537.9371948242188\n"
     ]
    }
   ],
   "source": [
    "blob_df_mem = blob_df[\"memory_mb\"]\n",
    "dd_final_df_mem = final_df.drop_duplicates(subset=\"name\")[\"memory_mb\"]\n",
    "dd_missing_df_mem = missing_df.drop_duplicates(subset=\"name\")[\"memory_mb\"]\n",
    "\n",
    "print(\"blob table memory after removing duplicate:\\t\", blob_df_mem.sum())\n",
    "print()\n",
    "print(\"final table memory after removing duplicate:\\t\", dd_final_df_mem.sum())\n",
    "print()\n",
    "print(\"missing table memory after removing duplicate:\\t\", dd_missing_df_mem.sum())\n",
    "\n",
    "assert blob_df_mem.sum() - dd_missing_df_mem.sum() == dd_final_df_mem.sum()"
   ]
  }
 ],
 "metadata": {
  "kernelspec": {
   "display_name": "field",
   "language": "python",
   "name": "python3"
  },
  "language_info": {
   "codemirror_mode": {
    "name": "ipython",
    "version": 3
   },
   "file_extension": ".py",
   "mimetype": "text/x-python",
   "name": "python",
   "nbconvert_exporter": "python",
   "pygments_lexer": "ipython3",
   "version": "3.10.13"
  }
 },
 "nbformat": 4,
 "nbformat_minor": 2
}
